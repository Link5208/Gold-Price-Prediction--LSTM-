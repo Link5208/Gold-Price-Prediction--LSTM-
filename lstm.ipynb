{
 "cells": [
  {
   "cell_type": "markdown",
   "metadata": {},
   "source": [
    "Import Libraries"
   ]
  },
  {
   "cell_type": "code",
   "execution_count": 8,
   "metadata": {},
   "outputs": [],
   "source": [
    "import pandas as pd"
   ]
  },
  {
   "cell_type": "markdown",
   "metadata": {},
   "source": [
    "Read data set"
   ]
  },
  {
   "cell_type": "code",
   "execution_count": 9,
   "metadata": {},
   "outputs": [],
   "source": [
    "df = pd.read_csv('data/Gold Price (2013-2023).csv')"
   ]
  },
  {
   "cell_type": "markdown",
   "metadata": {},
   "source": [
    "Dataset Overview"
   ]
  },
  {
   "cell_type": "code",
   "execution_count": 10,
   "metadata": {},
   "outputs": [
    {
     "data": {
      "text/html": [
       "<div>\n",
       "<style scoped>\n",
       "    .dataframe tbody tr th:only-of-type {\n",
       "        vertical-align: middle;\n",
       "    }\n",
       "\n",
       "    .dataframe tbody tr th {\n",
       "        vertical-align: top;\n",
       "    }\n",
       "\n",
       "    .dataframe thead th {\n",
       "        text-align: right;\n",
       "    }\n",
       "</style>\n",
       "<table border=\"1\" class=\"dataframe\">\n",
       "  <thead>\n",
       "    <tr style=\"text-align: right;\">\n",
       "      <th></th>\n",
       "      <th>Date</th>\n",
       "      <th>Price</th>\n",
       "      <th>Open</th>\n",
       "      <th>High</th>\n",
       "      <th>Low</th>\n",
       "      <th>Vol.</th>\n",
       "      <th>Change %</th>\n",
       "    </tr>\n",
       "  </thead>\n",
       "  <tbody>\n",
       "    <tr>\n",
       "      <th>0</th>\n",
       "      <td>12/30/2022</td>\n",
       "      <td>1,826.20</td>\n",
       "      <td>1,821.80</td>\n",
       "      <td>1,832.40</td>\n",
       "      <td>1,819.80</td>\n",
       "      <td>107.50K</td>\n",
       "      <td>0.01%</td>\n",
       "    </tr>\n",
       "    <tr>\n",
       "      <th>1</th>\n",
       "      <td>12/29/2022</td>\n",
       "      <td>1,826.00</td>\n",
       "      <td>1,812.30</td>\n",
       "      <td>1,827.30</td>\n",
       "      <td>1,811.20</td>\n",
       "      <td>105.99K</td>\n",
       "      <td>0.56%</td>\n",
       "    </tr>\n",
       "    <tr>\n",
       "      <th>2</th>\n",
       "      <td>12/28/2022</td>\n",
       "      <td>1,815.80</td>\n",
       "      <td>1,822.40</td>\n",
       "      <td>1,822.80</td>\n",
       "      <td>1,804.20</td>\n",
       "      <td>118.08K</td>\n",
       "      <td>-0.40%</td>\n",
       "    </tr>\n",
       "    <tr>\n",
       "      <th>3</th>\n",
       "      <td>12/27/2022</td>\n",
       "      <td>1,823.10</td>\n",
       "      <td>1,808.20</td>\n",
       "      <td>1,841.90</td>\n",
       "      <td>1,808.00</td>\n",
       "      <td>159.62K</td>\n",
       "      <td>0.74%</td>\n",
       "    </tr>\n",
       "    <tr>\n",
       "      <th>4</th>\n",
       "      <td>12/26/2022</td>\n",
       "      <td>1,809.70</td>\n",
       "      <td>1,805.80</td>\n",
       "      <td>1,811.95</td>\n",
       "      <td>1,805.55</td>\n",
       "      <td>NaN</td>\n",
       "      <td>0.30%</td>\n",
       "    </tr>\n",
       "    <tr>\n",
       "      <th>...</th>\n",
       "      <td>...</td>\n",
       "      <td>...</td>\n",
       "      <td>...</td>\n",
       "      <td>...</td>\n",
       "      <td>...</td>\n",
       "      <td>...</td>\n",
       "      <td>...</td>\n",
       "    </tr>\n",
       "    <tr>\n",
       "      <th>2578</th>\n",
       "      <td>01/08/2013</td>\n",
       "      <td>1,663.20</td>\n",
       "      <td>1,651.50</td>\n",
       "      <td>1,662.60</td>\n",
       "      <td>1,648.80</td>\n",
       "      <td>0.13K</td>\n",
       "      <td>0.97%</td>\n",
       "    </tr>\n",
       "    <tr>\n",
       "      <th>2579</th>\n",
       "      <td>01/07/2013</td>\n",
       "      <td>1,647.20</td>\n",
       "      <td>1,657.30</td>\n",
       "      <td>1,663.80</td>\n",
       "      <td>1,645.30</td>\n",
       "      <td>0.09K</td>\n",
       "      <td>-0.16%</td>\n",
       "    </tr>\n",
       "    <tr>\n",
       "      <th>2580</th>\n",
       "      <td>01/04/2013</td>\n",
       "      <td>1,649.90</td>\n",
       "      <td>1,664.40</td>\n",
       "      <td>1,664.40</td>\n",
       "      <td>1,630.00</td>\n",
       "      <td>0.31K</td>\n",
       "      <td>-1.53%</td>\n",
       "    </tr>\n",
       "    <tr>\n",
       "      <th>2581</th>\n",
       "      <td>01/03/2013</td>\n",
       "      <td>1,675.60</td>\n",
       "      <td>1,688.00</td>\n",
       "      <td>1,689.30</td>\n",
       "      <td>1,664.30</td>\n",
       "      <td>0.19K</td>\n",
       "      <td>-0.85%</td>\n",
       "    </tr>\n",
       "    <tr>\n",
       "      <th>2582</th>\n",
       "      <td>01/02/2013</td>\n",
       "      <td>1,689.90</td>\n",
       "      <td>1,675.80</td>\n",
       "      <td>1,695.00</td>\n",
       "      <td>1,672.10</td>\n",
       "      <td>0.06K</td>\n",
       "      <td>0.78%</td>\n",
       "    </tr>\n",
       "  </tbody>\n",
       "</table>\n",
       "<p>2583 rows × 7 columns</p>\n",
       "</div>"
      ],
      "text/plain": [
       "            Date     Price      Open      High       Low     Vol. Change %\n",
       "0     12/30/2022  1,826.20  1,821.80  1,832.40  1,819.80  107.50K    0.01%\n",
       "1     12/29/2022  1,826.00  1,812.30  1,827.30  1,811.20  105.99K    0.56%\n",
       "2     12/28/2022  1,815.80  1,822.40  1,822.80  1,804.20  118.08K   -0.40%\n",
       "3     12/27/2022  1,823.10  1,808.20  1,841.90  1,808.00  159.62K    0.74%\n",
       "4     12/26/2022  1,809.70  1,805.80  1,811.95  1,805.55      NaN    0.30%\n",
       "...          ...       ...       ...       ...       ...      ...      ...\n",
       "2578  01/08/2013  1,663.20  1,651.50  1,662.60  1,648.80    0.13K    0.97%\n",
       "2579  01/07/2013  1,647.20  1,657.30  1,663.80  1,645.30    0.09K   -0.16%\n",
       "2580  01/04/2013  1,649.90  1,664.40  1,664.40  1,630.00    0.31K   -1.53%\n",
       "2581  01/03/2013  1,675.60  1,688.00  1,689.30  1,664.30    0.19K   -0.85%\n",
       "2582  01/02/2013  1,689.90  1,675.80  1,695.00  1,672.10    0.06K    0.78%\n",
       "\n",
       "[2583 rows x 7 columns]"
      ]
     },
     "execution_count": 10,
     "metadata": {},
     "output_type": "execute_result"
    }
   ],
   "source": [
    "df"
   ]
  },
  {
   "cell_type": "markdown",
   "metadata": {},
   "source": []
  },
  {
   "cell_type": "markdown",
   "metadata": {},
   "source": [
    "Dataset Basic Information:"
   ]
  },
  {
   "cell_type": "code",
   "execution_count": 11,
   "metadata": {},
   "outputs": [
    {
     "name": "stdout",
     "output_type": "stream",
     "text": [
      "<class 'pandas.core.frame.DataFrame'>\n",
      "RangeIndex: 2583 entries, 0 to 2582\n",
      "Data columns (total 7 columns):\n",
      " #   Column    Non-Null Count  Dtype \n",
      "---  ------    --------------  ----- \n",
      " 0   Date      2583 non-null   object\n",
      " 1   Price     2583 non-null   object\n",
      " 2   Open      2583 non-null   object\n",
      " 3   High      2583 non-null   object\n",
      " 4   Low       2583 non-null   object\n",
      " 5   Vol.      2578 non-null   object\n",
      " 6   Change %  2583 non-null   object\n",
      "dtypes: object(7)\n",
      "memory usage: 141.4+ KB\n"
     ]
    }
   ],
   "source": [
    "df.info()"
   ]
  },
  {
   "cell_type": "markdown",
   "metadata": {},
   "source": [
    "Dropping Vol. and Change% because I don't use them:"
   ]
  },
  {
   "cell_type": "code",
   "execution_count": 14,
   "metadata": {},
   "outputs": [],
   "source": [
    "df.drop(['Vol.', 'Change %'], axis=1,inplace=True)"
   ]
  },
  {
   "cell_type": "markdown",
   "metadata": {},
   "source": [
    "To increase the speed of calculations, we convert its data type to date time and sort this feature in ascending order:"
   ]
  },
  {
   "cell_type": "code",
   "execution_count": 15,
   "metadata": {},
   "outputs": [],
   "source": [
    "df['Date'] = pd.to_datetime(df['Date'])\n",
    "df.sort_values(by='Date', ascending=True, inplace=True)\n",
    "df.reset_index(drop=True, inplace=True)"
   ]
  },
  {
   "cell_type": "markdown",
   "metadata": {},
   "source": [
    "I remove \",\" sign from the entire dataset and change the data type of the numerical variables to float:"
   ]
  },
  {
   "cell_type": "code",
   "execution_count": 16,
   "metadata": {},
   "outputs": [],
   "source": [
    "NumCols = df.columns.drop(['Date'])\n",
    "df[NumCols] = df[NumCols].replace({',':''}, regex=True)\n",
    "df[NumCols] = df[NumCols].astype('float64')"
   ]
  },
  {
   "cell_type": "markdown",
   "metadata": {},
   "source": [
    "Result:"
   ]
  },
  {
   "cell_type": "code",
   "execution_count": 17,
   "metadata": {},
   "outputs": [
    {
     "data": {
      "text/html": [
       "<div>\n",
       "<style scoped>\n",
       "    .dataframe tbody tr th:only-of-type {\n",
       "        vertical-align: middle;\n",
       "    }\n",
       "\n",
       "    .dataframe tbody tr th {\n",
       "        vertical-align: top;\n",
       "    }\n",
       "\n",
       "    .dataframe thead th {\n",
       "        text-align: right;\n",
       "    }\n",
       "</style>\n",
       "<table border=\"1\" class=\"dataframe\">\n",
       "  <thead>\n",
       "    <tr style=\"text-align: right;\">\n",
       "      <th></th>\n",
       "      <th>Date</th>\n",
       "      <th>Price</th>\n",
       "      <th>Open</th>\n",
       "      <th>High</th>\n",
       "      <th>Low</th>\n",
       "    </tr>\n",
       "  </thead>\n",
       "  <tbody>\n",
       "    <tr>\n",
       "      <th>0</th>\n",
       "      <td>2013-01-02</td>\n",
       "      <td>1689.9</td>\n",
       "      <td>1675.8</td>\n",
       "      <td>1695.0</td>\n",
       "      <td>1672.1</td>\n",
       "    </tr>\n",
       "    <tr>\n",
       "      <th>1</th>\n",
       "      <td>2013-01-03</td>\n",
       "      <td>1675.6</td>\n",
       "      <td>1688.0</td>\n",
       "      <td>1689.3</td>\n",
       "      <td>1664.3</td>\n",
       "    </tr>\n",
       "    <tr>\n",
       "      <th>2</th>\n",
       "      <td>2013-01-04</td>\n",
       "      <td>1649.9</td>\n",
       "      <td>1664.4</td>\n",
       "      <td>1664.4</td>\n",
       "      <td>1630.0</td>\n",
       "    </tr>\n",
       "    <tr>\n",
       "      <th>3</th>\n",
       "      <td>2013-01-07</td>\n",
       "      <td>1647.2</td>\n",
       "      <td>1657.3</td>\n",
       "      <td>1663.8</td>\n",
       "      <td>1645.3</td>\n",
       "    </tr>\n",
       "    <tr>\n",
       "      <th>4</th>\n",
       "      <td>2013-01-08</td>\n",
       "      <td>1663.2</td>\n",
       "      <td>1651.5</td>\n",
       "      <td>1662.6</td>\n",
       "      <td>1648.8</td>\n",
       "    </tr>\n",
       "  </tbody>\n",
       "</table>\n",
       "</div>"
      ],
      "text/plain": [
       "        Date   Price    Open    High     Low\n",
       "0 2013-01-02  1689.9  1675.8  1695.0  1672.1\n",
       "1 2013-01-03  1675.6  1688.0  1689.3  1664.3\n",
       "2 2013-01-04  1649.9  1664.4  1664.4  1630.0\n",
       "3 2013-01-07  1647.2  1657.3  1663.8  1645.3\n",
       "4 2013-01-08  1663.2  1651.5  1662.6  1648.8"
      ]
     },
     "execution_count": 17,
     "metadata": {},
     "output_type": "execute_result"
    }
   ],
   "source": [
    "df.head()"
   ]
  },
  {
   "cell_type": "markdown",
   "metadata": {},
   "source": [
    "Checking duplicates"
   ]
  },
  {
   "cell_type": "code",
   "execution_count": 18,
   "metadata": {},
   "outputs": [
    {
     "data": {
      "text/plain": [
       "np.int64(0)"
      ]
     },
     "execution_count": 18,
     "metadata": {},
     "output_type": "execute_result"
    }
   ],
   "source": [
    "df.duplicated().sum()"
   ]
  },
  {
   "cell_type": "markdown",
   "metadata": {},
   "source": [
    "Checking missing values"
   ]
  },
  {
   "cell_type": "code",
   "execution_count": 19,
   "metadata": {},
   "outputs": [
    {
     "data": {
      "text/plain": [
       "np.int64(0)"
      ]
     },
     "execution_count": 19,
     "metadata": {},
     "output_type": "execute_result"
    }
   ],
   "source": [
    "df.isnull().sum().sum()"
   ]
  }
 ],
 "metadata": {
  "kernelspec": {
   "display_name": "Python 3",
   "language": "python",
   "name": "python3"
  },
  "language_info": {
   "codemirror_mode": {
    "name": "ipython",
    "version": 3
   },
   "file_extension": ".py",
   "mimetype": "text/x-python",
   "name": "python",
   "nbconvert_exporter": "python",
   "pygments_lexer": "ipython3",
   "version": "3.12.9"
  }
 },
 "nbformat": 4,
 "nbformat_minor": 2
}
